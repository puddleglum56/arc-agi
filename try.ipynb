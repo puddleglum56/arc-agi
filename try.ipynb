{
 "cells": [
  {
   "cell_type": "code",
   "execution_count": 2,
   "metadata": {},
   "outputs": [],
   "source": [
    "import os\n",
    "import json\n",
    "\n",
    "base_dir = \"data\"\n",
    "sub_dir = \"training\"\n",
    "for filename in os.listdir(os.path.join(base_dir, sub_dir)):\n",
    "    data = json.load(open(os.path.join(base_dir, sub_dir, filename)))\n",
    "    break\n",
    "\n"
   ]
  },
  {
   "cell_type": "code",
   "execution_count": 15,
   "metadata": {},
   "outputs": [
    {
     "data": {
      "text/plain": [
       "[[6, 1, 1, 5, 1, 1, 1, 1, 1, 1, 1, 1, 1, 1, 1],\n",
       " [1, 4, 1, 1, 9, 1, 1, 1, 1, 5, 1, 1, 1, 1, 1],\n",
       " [5, 1, 1, 1, 4, 1, 1, 1, 1, 1, 1, 1, 1, 1, 1],\n",
       " [7, 2, 2, 2, 2, 6, 2, 9, 2, 2, 4, 2, 4, 2, 2],\n",
       " [2, 2, 9, 2, 1, 2, 2, 2, 3, 2, 2, 8, 2, 7, 2],\n",
       " [2, 5, 2, 2, 5, 6, 6, 2, 2, 2, 3, 2, 5, 2, 2],\n",
       " [2, 2, 2, 2, 2, 2, 2, 2, 2, 2, 6, 2, 8, 2, 2],\n",
       " [1, 8, 8, 8, 8, 8, 9, 8, 8, 8, 8, 8, 8, 8, 8],\n",
       " [8, 8, 8, 8, 1, 8, 8, 8, 8, 8, 7, 8, 8, 8, 9],\n",
       " [8, 8, 8, 8, 8, 8, 8, 8, 8, 8, 4, 8, 8, 8, 8],\n",
       " [8, 8, 8, 8, 8, 8, 8, 8, 5, 8, 8, 8, 1, 8, 8],\n",
       " [4, 4, 4, 4, 4, 4, 7, 3, 4, 4, 4, 4, 4, 2, 4],\n",
       " [4, 4, 7, 4, 4, 4, 4, 4, 4, 4, 8, 4, 4, 4, 4],\n",
       " [3, 3, 1, 9, 3, 3, 3, 3, 3, 3, 3, 3, 3, 3, 3],\n",
       " [8, 6, 3, 3, 8, 3, 3, 3, 3, 3, 3, 3, 3, 3, 3]]"
      ]
     },
     "execution_count": 15,
     "metadata": {},
     "output_type": "execute_result"
    }
   ],
   "source": [
    "data['test'][0]['input']"
   ]
  }
 ],
 "metadata": {
  "kernelspec": {
   "display_name": "arc",
   "language": "python",
   "name": "python3"
  },
  "language_info": {
   "codemirror_mode": {
    "name": "ipython",
    "version": 3
   },
   "file_extension": ".py",
   "mimetype": "text/x-python",
   "name": "python",
   "nbconvert_exporter": "python",
   "pygments_lexer": "ipython3",
   "version": "3.10.14"
  }
 },
 "nbformat": 4,
 "nbformat_minor": 2
}
